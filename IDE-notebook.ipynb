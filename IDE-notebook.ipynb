<<<<<<< HEAD
{
 "cells": [],
 "metadata": {
  "kernelspec": {
   "display_name": "Python 3",
   "language": "python",
   "name": "python3"
  },
  "language_info": {
   "name": "python",
   "version": "3.12.2"
  }
 },
 "nbformat": 4,
 "nbformat_minor": 2
}
=======
import pandas as pd
>>>>>>> 2a89762ca746f162130a3e26a1023d18b7cade7e
